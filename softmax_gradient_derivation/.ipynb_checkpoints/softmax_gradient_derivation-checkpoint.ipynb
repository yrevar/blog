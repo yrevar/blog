{
 "cells": [
  {
   "cell_type": "markdown",
   "metadata": {},
   "source": [
    "# Softmax classifier gradient derivation\n",
    "\n",
    "by [yrevar](https://github.com/yrevar)"
   ]
  },
  {
   "cell_type": "markdown",
   "metadata": {},
   "source": [
    "I have been taking [CS231n: Convolutional Neural Networks for Visual Recognition](http://cs231n.stanford.edu/) since past few weeks. I had to spend some time deriving gradients of the weights for [Softmax classifier](http://ufldl.stanford.edu/wiki/index.php/Softmax_Regression) and [Support Vector Machines](https://en.wikipedia.org/wiki/Support_vector_machine). So, I am sharing my insights here, I hope you find it useful. I am trying to expand upon Softamx gradient here; kindly refer to [cs231n lecture notes](http://cs231n.github.io/linear-classify/) to learn in depth about linear classifiers. \n",
    "\n",
    "Note: If you are seeing this on GitHub and equations below doesn't render properly, kindly view this blog using [nbviewer](http://nbviewer.jupyter.org/github/yrevar/machine_learning/blob/master/softmax_gradient_derivation/softmax_gradient_derivation.ipynb)"
   ]
  },
  {
   "cell_type": "markdown",
   "metadata": {},
   "source": [
    "In simplest linear classifier, class scores $z$ are calculated as:\n",
    "\n",
    "```python\n",
    "z = X.dot(W)\n",
    "```"
   ]
  },
  {
   "cell_type": "markdown",
   "metadata": {},
   "source": [
    "<img src=\"http://cs231n.github.io/assets/imagemap.jpg\">"
   ]
  },
  {
   "cell_type": "markdown",
   "metadata": {},
   "source": [
    "This is analogous to a single layer neural network. In the Softmax classifier, the score function mapping ${f(x_i;W)=Wx_i}$ stays same. But, on top of that we apply Sofmax function to these scores, and then we use cross-entropy loss to measure the error and update the gradients. Let's dive deeper into this."
   ]
  },
  {
   "cell_type": "markdown",
   "metadata": {},
   "source": [
    "## Sofmax function"
   ]
  },
  {
   "cell_type": "markdown",
   "metadata": {},
   "source": [
    "[Sofmax function](https://en.wikipedia.org/wiki/Softmax_function) $p(z)$ takes a vector of arbitrary real-valued scores (e.g. predicted scores $z[]$) and squashes it to a vector of values between zero and one. In this particular exercise, you can interpret these scores as predicted class probabilities. "
   ]
  },
  {
   "cell_type": "markdown",
   "metadata": {},
   "source": [
    "$$ p(z) = \\frac{e^{z}}{\\sum_k {e^{z_k}}} $$"
   ]
  },
  {
   "cell_type": "markdown",
   "metadata": {},
   "source": [
    "So, probability of the $j$-th class would be: \n",
    "$$ p_j(z) = \\frac{e^{z_j}}{\\sum_k {e^{z_k}}} $$"
   ]
  },
  {
   "cell_type": "markdown",
   "metadata": {},
   "source": [
    "In pythonic way, a naive version of the softmax function can be written as:"
   ]
  },
  {
   "cell_type": "code",
   "execution_count": 145,
   "metadata": {
    "collapsed": false
   },
   "outputs": [],
   "source": [
    "import numpy as np\n",
    "import matplotlib.pyplot as plt\n",
    "% matplotlib inline\n",
    "def softmax(z):\n",
    "    return np.exp(z)/np.sum(np.exp(z), axis=0)"
   ]
  },
  {
   "cell_type": "code",
   "execution_count": 146,
   "metadata": {
    "collapsed": false
   },
   "outputs": [
    {
     "name": "stdout",
     "output_type": "stream",
     "text": [
      "scores:  [-3. -2. -1.  0.  1.  2.  3.  4.]\n",
      "probabilities:  [  5.76612770e-04   1.56739601e-03   4.26062410e-03   1.15815771e-02\n",
      "   3.14819905e-02   8.55769227e-02   2.32622194e-01   6.32332683e-01]\n"
     ]
    }
   ],
   "source": [
    "z = np.arange(-3.0, 5.0, 1.0)\n",
    "print \"scores: \", z\n",
    "p = softmax(z)\n",
    "print \"probabilities: \", p"
   ]
  },
  {
   "cell_type": "markdown",
   "metadata": {},
   "source": [
    "Let's try to visualize this with more data:"
   ]
  },
  {
   "cell_type": "code",
   "execution_count": 147,
   "metadata": {
    "collapsed": false
   },
   "outputs": [
    {
     "data": {
      "image/png": "[encoded data removed]",
      "text/plain": [
       "<matplotlib.figure.Figure at 0x11412b8d0>"
      ]
     },
     "metadata": {},
     "output_type": "display_data"
    }
   ],
   "source": [
    "# Let's assume there are 100 classes for which we get arbitrary score values\n",
    "x = np.linspace(-3.0, 5.0, 100)\n",
    "# Create 2 more arrays and stack them together to see what softmax does to them\n",
    "scores = np.vstack([x, 0.01*np.ones_like(x), 2.0*np.ones_like(x)])\n",
    "plt.plot(x, softmax(scores).T, linewidth=2)\n",
    "plt.show()"
   ]
  },
  {
   "cell_type": "markdown",
   "metadata": {},
   "source": [
    "As we can see, probability values change as we change our scores, but they always sum to one. It's interesting to note that as the separation between different score values increases we get steeper curve. To undertand better, let's take a small example. "
   ]
  },
  {
   "cell_type": "code",
   "execution_count": 148,
   "metadata": {
    "collapsed": false
   },
   "outputs": [
    {
     "data": {
      "text/plain": [
       "array([ 0.26894142,  0.73105858])"
      ]
     },
     "execution_count": 148,
     "metadata": {},
     "output_type": "execute_result"
    }
   ],
   "source": [
    "x=np.array([1,2])\n",
    "softmax(x)"
   ]
  },
  {
   "cell_type": "code",
   "execution_count": 149,
   "metadata": {
    "collapsed": false
   },
   "outputs": [
    {
     "data": {
      "text/plain": [
       "array([  1.01122149e-43,   1.00000000e+00])"
      ]
     },
     "execution_count": 149,
     "metadata": {},
     "output_type": "execute_result"
    }
   ],
   "source": [
    "x=np.array([1,100])\n",
    "softmax(x)"
   ]
  },
  {
   "cell_type": "markdown",
   "metadata": {},
   "source": [
    "Isn't it natural? 100 is way far away from 1 than 2 is so it was assigned class score of nearly 1.0. We could relate this to [Support Vector Machines](https://en.wikipedia.org/wiki/Support_vector_machine), but Softmax takes into account all of the class scores regardless of their separation with the correct class while SVM stops caring after when a desired level of separation is achieved."
   ]
  },
  {
   "cell_type": "markdown",
   "metadata": {},
   "source": [
    "## Cross Entropy Loss"
   ]
  },
  {
   "cell_type": "markdown",
   "metadata": {},
   "source": [
    "We want these estimated class probabilities in such a way that we get the class score of 1.0 (ideally) for correct class and 0.0 for others. Unless we are really lucky with the weights, which is highly unlikely, our randomly initialized weights won't lead us to the correct scores in one shot. And, we'll always see [residual errors](https://en.wikipedia.org/wiki/Errors_and_residuals) in the predicted scores. To quantify the errors, we define loss function. Let's step back and reiterate our final objective which is to classify correctly, and for that we need to come up with model parameters $(W,b)$ that minimize this loss value; therefore, we need to select loss function which makes this job easier for us. I won't go into much detail about optimization (to find out more about how to go from errors to optimizing weights you can read more about optimization techniques [here](http://cs231n.github.io/optimization-1/) or [here](https://www.cs.berkeley.edu/~jordan/courses/294-fall09/lectures/optimization/slides.pdf)). The simplest loss function is [Sum of Squared Errors(SSE)](https://en.wikipedia.org/wiki/Residual_sum_of_squares), which is an ideal candidate for a real-valued data (e.g. in [linear regression](https://en.wikipedia.org/wiki/Linear_regression)), but in classification, we need a loss function that can do a great job in separating 0 and 1. In other words, when predicted class score is 0 instead of true score 1, the loss function should produce a high loss and vice versa. We can see that, negative of the $log()$ function does that job pretty nicely. "
   ]
  },
  {
   "cell_type": "code",
   "execution_count": 150,
   "metadata": {
    "collapsed": false
   },
   "outputs": [
    {
     "data": {
      "text/plain": [
       "(0, 10)"
      ]
     },
     "execution_count": 150,
     "metadata": {},
     "output_type": "execute_result"
    },
    {
     "data": {
      "image/png": "[encoded data removed]",
      "text/plain": [
       "<matplotlib.figure.Figure at 0x114744550>"
      ]
     },
     "metadata": {},
     "output_type": "display_data"
    }
   ],
   "source": [
    "plt.plot(np.arange(0,10,0.0001), -np.log(np.arange(0,10,0.0001)))\n",
    "plt.xlim(0,1)\n",
    "plt.ylim(0,10)"
   ]
  },
  {
   "cell_type": "code",
   "execution_count": 151,
   "metadata": {
    "collapsed": false
   },
   "outputs": [
    {
     "data": {
      "text/plain": [
       "inf"
      ]
     },
     "execution_count": 151,
     "metadata": {},
     "output_type": "execute_result"
    }
   ],
   "source": [
    "-np.log(0)"
   ]
  },
  {
   "cell_type": "markdown",
   "metadata": {},
   "source": [
    "For simplicity, let's consider $Y$ as one-hot encoded labels for correct label $y$ ([one hot encoding](http://stackoverflow.com/questions/17469835/one-hot-encoding-for-machine-learning)). $Y_i$ is one-hot encoded vector for i-th training label, and $Y_i,_j$ is $j$-th class score for $i$-th training label (which is 0 for all j except when $j == y_i$).   "
   ]
  },
  {
   "cell_type": "markdown",
   "metadata": {},
   "source": [
    "The [cross-entropy](https://en.wikipedia.org/wiki/Cross_entropy) between a \"true\" distribution $p$ and an estimated distribution $q$ is defined as:"
   ]
  },
  {
   "cell_type": "markdown",
   "metadata": {},
   "source": [
    "$$ H(p,q) = -\\sum_x p(x) log( q(x) ) $$"
   ]
  },
  {
   "cell_type": "markdown",
   "metadata": {},
   "source": [
    "We are minimizing negative log likelihood of the correct class score. Intuitively, we are penalizing all correct class scores which are less than 1.0, and our penalty increases exponentially as we move towards 0 and reaches to $-\\infty$. The Softmax classifier is hence minimizing the cross-entropy between the estimated class probabilities $p(z)$ and the \"true\" distribution $Y_i$, which in this interpretation is the distribution where all probability mass is on the correct class (i.e. p=[0,…1,…,0]p=[0,…1,…,0] contains a single 1 at the $yi$-th position). "
   ]
  },
  {
   "cell_type": "markdown",
   "metadata": {},
   "source": [
    "$$ L_i = -\\sum_j Y_i,_j log( \\frac { e^{f_{j}} } { \\sum_k {e^{f_k}} } )$$ "
   ]
  },
  {
   "cell_type": "markdown",
   "metadata": {},
   "source": [
    "For $i$-th example, $Y_i,_j$ is zero except at position $y_i$, which is true class label for $i$-th training input. So, our loss equation simplifies to: "
   ]
  },
  {
   "cell_type": "markdown",
   "metadata": {},
   "source": [
    "$$L_i = -log( \\frac { e^{f_{y_i}} } { \\sum_k {e^{f_k}} } )$$ "
   ]
  },
  {
   "cell_type": "markdown",
   "metadata": {},
   "source": [
    "Simplifying further..."
   ]
  },
  {
   "cell_type": "markdown",
   "metadata": {},
   "source": [
    "$$L_i = -f_{y_i} + log(\\sum_k {e^{f_k}})$$"
   ]
  },
  {
   "cell_type": "markdown",
   "metadata": {},
   "source": [
    "$$L_i = -w_{y_i}x_i + log(\\sum_k {e^{w_k x_i}})$$ "
   ]
  },
  {
   "cell_type": "markdown",
   "metadata": {},
   "source": [
    "## Gradient of the loss function"
   ]
  },
  {
   "cell_type": "markdown",
   "metadata": {},
   "source": [
    "$$\\begin{equation}\\frac{\\partial L_i}{\\partial w_j} = -\\frac{\\partial w_{y_i}} {\\partial w_j} x_i + \\frac {1} {\\sum_k {e^{w_k x_i}}} \\cdot \\frac{\\partial}{\\partial w_j} (\\sum_k e^{w_k x_i})\\end{equation}$$ "
   ]
  },
  {
   "cell_type": "markdown",
   "metadata": {},
   "source": [
    "Applying derivative chain rule leads to:"
   ]
  },
  {
   "cell_type": "markdown",
   "metadata": {},
   "source": [
    "$$\\begin{equation}\\frac{\\partial}{\\partial w_j} (\\sum_k e^{w_k x_i}) = \\frac{\\partial}{\\partial w_k x_i} (\\sum_k e^{w_k x_i}) \\cdot \\frac{\\partial w_k xi}{\\partial w_j}\\end{equation}$$"
   ]
  },
  {
   "cell_type": "markdown",
   "metadata": {},
   "source": [
    "We know that $\\frac{\\partial e^{x}}{\\partial x} = e^x$; however"
   ]
  },
  {
   "cell_type": "markdown",
   "metadata": {},
   "source": [
    "$$\\begin{equation}\\frac{\\partial w_k xi}{\\partial w_j} = \\left\\{ \\begin{array}{ll} 0 & \\mbox{if } k \\neq j \\\\ x_i & \\mbox{if } k = j \\end{array} \\right.\\end{equation}$$"
   ]
  },
  {
   "cell_type": "markdown",
   "metadata": {},
   "source": [
    "Combining eq. (1), (2) & (3) we get:"
   ]
  },
  {
   "cell_type": "markdown",
   "metadata": {},
   "source": [
    "$$\\frac{\\partial L_i}{\\partial w_j} = -\\frac{\\partial w_{y_i}} {\\partial w_j} x_i + \\frac {e^{w_j x_i}} {\\sum_k {e^{w_k x_i}}} x_i$$ "
   ]
  },
  {
   "cell_type": "markdown",
   "metadata": {},
   "source": [
    "The term $\\frac {e^{w_j x_i}} {\\sum_k {e^{w_k x_i}}}$ is the softmax score for the class j which we already computed i.e. $p_j(z)$. In other words:"
   ]
  },
  {
   "cell_type": "markdown",
   "metadata": {},
   "source": [
    "$$\\frac{\\partial L_i}{\\partial w_j} = -\\frac{\\partial w_{y_i}} {\\partial w_j} x_i + p_j(z) x_i$$"
   ]
  },
  {
   "cell_type": "markdown",
   "metadata": {},
   "source": [
    "$$\\frac{\\partial L_i}{\\partial w_j} = (p_j(z) - \\frac{\\partial w_{y_i}} {\\partial w_j})x_i$$"
   ]
  },
  {
   "cell_type": "markdown",
   "metadata": {},
   "source": [
    "$\\frac{\\partial w_{y_i}} {\\partial w_j} = \\left\\{ \\begin{array}{ll} 0 & \\mbox{if } j \\neq y_i \\\\ 1 & \\mbox{if } j = y_i \\end{array} \\right.$"
   ]
  },
  {
   "cell_type": "markdown",
   "metadata": {
    "collapsed": true
   },
   "source": [
    "In code gradient update would simply be:\n",
    "```python \n",
    "dW[:,j] += (p[j] - (j==y[i]))*X[i,:] \n",
    "```"
   ]
  },
  {
   "cell_type": "markdown",
   "metadata": {},
   "source": [
    "*This post was written in a Jupyter Notebook. If you'd like to run the code yourself, download the notebook [here](https://github.com/yrevar/machine_learning/blob/master/softmax_gradient_derivation/softmax_gradient_derivation.ipynb).*"
   ]
  }
 ],
 "metadata": {
  "kernelspec": {
   "display_name": "Python 2",
   "language": "python",
   "name": "python2"
  },
  "language_info": {
   "codemirror_mode": {
    "name": "ipython",
    "version": 2
   },
   "file_extension": ".py",
   "mimetype": "text/x-python",
   "name": "python",
   "nbconvert_exporter": "python",
   "pygments_lexer": "ipython2",
   "version": "2.7.10"
  }
 },
 "nbformat": 4,
 "nbformat_minor": 0
}
